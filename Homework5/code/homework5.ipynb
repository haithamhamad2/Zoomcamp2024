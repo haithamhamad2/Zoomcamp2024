{
 "cells": [
  {
   "cell_type": "code",
   "execution_count": 1,
   "id": "29ca5202",
   "metadata": {},
   "outputs": [],
   "source": [
    "import findspark\n",
    "findspark.init()"
   ]
  },
  {
   "cell_type": "code",
   "execution_count": 2,
   "id": "00bc6543",
   "metadata": {},
   "outputs": [],
   "source": [
    "import pyspark\n",
    "from pyspark.sql import SparkSession\n",
    "from pyspark.sql import types"
   ]
  },
  {
   "cell_type": "code",
   "execution_count": 3,
   "id": "cd4a0f3d",
   "metadata": {},
   "outputs": [
    {
     "name": "stderr",
     "output_type": "stream",
     "text": [
      "Setting default log level to \"WARN\".\n",
      "To adjust logging level use sc.setLogLevel(newLevel). For SparkR, use setLogLevel(newLevel).\n"
     ]
    },
    {
     "name": "stdout",
     "output_type": "stream",
     "text": [
      "24/02/29 20:49:37 WARN NativeCodeLoader: Unable to load native-hadoop library for your platform... using builtin-java classes where applicable\n"
     ]
    }
   ],
   "source": [
    "spark = SparkSession.builder \\\n",
    "    .master(\"local[*]\") \\\n",
    "    .appName('test') \\\n",
    "    .getOrCreate()"
   ]
  },
  {
   "cell_type": "code",
   "execution_count": 4,
   "id": "eb3e4c36",
   "metadata": {},
   "outputs": [
    {
     "data": {
      "text/plain": [
       "'3.3.2'"
      ]
     },
     "execution_count": 4,
     "metadata": {},
     "output_type": "execute_result"
    }
   ],
   "source": [
    "spark.version"
   ]
  },
  {
   "cell_type": "code",
   "execution_count": 5,
   "id": "c96488a3",
   "metadata": {},
   "outputs": [
    {
     "name": "stderr",
     "output_type": "stream",
     "text": [
      "                                                                                \r"
     ]
    }
   ],
   "source": [
    "df = spark.read \\\n",
    "     .parquet('fhv/2019/10/')\n",
    "#df.write.parquet('fhv/2019/10/')"
   ]
  },
  {
   "cell_type": "code",
   "execution_count": 6,
   "id": "55ca0bd1",
   "metadata": {},
   "outputs": [
    {
     "name": "stderr",
     "output_type": "stream",
     "text": [
      "\r",
      "[Stage 1:>                                                          (0 + 1) / 1]\r"
     ]
    },
    {
     "name": "stdout",
     "output_type": "stream",
     "text": [
      "+--------------------+-------------------+-------------------+------------+------------+-------+----------------------+\n",
      "|dispatching_base_num|    pickup_datetime|   dropoff_datetime|PULocationID|DOLocationID|SR_Flag|Affiliated_base_number|\n",
      "+--------------------+-------------------+-------------------+------------+------------+-------+----------------------+\n",
      "|              B02784|2019-10-01 09:55:38|2019-10-01 10:05:43|          89|          85|   null|                  null|\n",
      "|              B01233|2019-10-08 00:09:01|2019-10-08 00:11:14|         264|          81|   null|                B01233|\n",
      "|              B02688|2019-10-02 10:59:00|2019-10-02 11:34:46|         264|         107|   null|                B02688|\n",
      "|              B01285|2019-10-03 21:56:10|2019-10-03 22:22:18|         264|         235|   null|                B01285|\n",
      "|              B00706|2019-10-05 02:48:13|2019-10-05 02:56:36|         115|         245|   null|                B00706|\n",
      "|              B02107|2019-10-05 08:04:34|2019-10-05 08:50:25|         264|         107|   null|                B02107|\n",
      "|              B01626|2019-10-02 16:48:06|2019-10-02 16:59:34|         264|         130|   null|                B01626|\n",
      "|              B01315|2019-10-06 13:44:49|2019-10-06 14:03:00|         264|         244|   null|                B01315|\n",
      "|              B03015|2019-10-04 16:22:21|2019-10-04 16:27:39|         264|         197|   null|                B03015|\n",
      "|              B02930|2019-10-05 22:06:15|2019-10-05 22:25:31|         264|          69|   null|                B02930|\n",
      "|     B01711         |2019-10-07 03:49:09|2019-10-07 04:07:48|         252|          92|   null|       B01711         |\n",
      "|              B02293|2019-10-01 11:05:20|2019-10-01 12:49:00|         107|         168|   null|                B02293|\n",
      "|              B01016|2019-10-08 20:53:14|2019-10-08 20:55:12|         264|          76|   null|                B01016|\n",
      "|              B01509|2019-10-03 11:42:36|2019-10-03 12:07:04|         264|          89|   null|                B01509|\n",
      "|              B00887|2019-10-02 09:38:26|2019-10-02 10:07:04|         264|         186|   null|                B00887|\n",
      "|              B02803|2019-10-05 11:00:58|2019-10-05 11:02:28|          20|          78|   null|                B02803|\n",
      "|              B00692|2019-10-04 06:10:12|2019-10-04 06:23:11|         264|          54|   null|                B00692|\n",
      "|              B01639|2019-10-07 07:44:03|2019-10-07 07:48:57|         264|         167|   null|                B01639|\n",
      "|     B01711         |2019-10-07 17:23:42|2019-10-07 17:42:07|         171|          73|   null|       B01711         |\n",
      "|              B02849|2019-10-03 14:25:07|2019-10-03 14:34:05|         264|         113|   null|                B02849|\n",
      "+--------------------+-------------------+-------------------+------------+------------+-------+----------------------+\n",
      "only showing top 20 rows\n",
      "\n"
     ]
    },
    {
     "name": "stderr",
     "output_type": "stream",
     "text": [
      "\r",
      "                                                                                \r"
     ]
    }
   ],
   "source": [
    "df.show()"
   ]
  },
  {
   "cell_type": "code",
   "execution_count": 8,
   "id": "cb069c87",
   "metadata": {},
   "outputs": [],
   "source": [
    "from pyspark.sql import functions as F"
   ]
  },
  {
   "cell_type": "code",
   "execution_count": 18,
   "id": "592ae995",
   "metadata": {},
   "outputs": [
    {
     "data": {
      "text/plain": [
       "62610"
      ]
     },
     "execution_count": 18,
     "metadata": {},
     "output_type": "execute_result"
    }
   ],
   "source": [
    "#62610\n",
    "df.filter(F.to_date(df.pickup_datetime) == '2019-10-15').count()  "
   ]
  },
  {
   "cell_type": "code",
   "execution_count": 20,
   "id": "ea70a3eb",
   "metadata": {},
   "outputs": [
    {
     "data": {
      "text/plain": [
       "62610"
      ]
     },
     "execution_count": 20,
     "metadata": {},
     "output_type": "execute_result"
    }
   ],
   "source": [
    " #62610\n",
    "df \\\n",
    "    .withColumn('pickup_date', F.to_date(df.pickup_datetime)) \\\n",
    "    .filter(\"pickup_date = '2019-10-15'\") \\\n",
    "    .count()"
   ]
  },
  {
   "cell_type": "code",
   "execution_count": 24,
   "id": "29565483",
   "metadata": {},
   "outputs": [],
   "source": [
    "df = df.withColumn('pickup_date', F.to_date(df.pickup_datetime))"
   ]
  },
  {
   "cell_type": "code",
   "execution_count": 25,
   "id": "96f68d4a",
   "metadata": {},
   "outputs": [],
   "source": [
    "df.registerTempTable('df_tab')"
   ]
  },
  {
   "cell_type": "code",
   "execution_count": 26,
   "id": "ffec04ab",
   "metadata": {},
   "outputs": [
    {
     "name": "stdout",
     "output_type": "stream",
     "text": [
      "+--------+\n",
      "|count(1)|\n",
      "+--------+\n",
      "|   62610|\n",
      "+--------+\n",
      "\n"
     ]
    }
   ],
   "source": [
    "#62610\n",
    "spark.sql(\"\"\"\n",
    "SELECT\n",
    "    count(1)\n",
    "FROM\n",
    "    df_tab\n",
    "WHERE pickup_date = '2019-10-15'\n",
    "\"\"\").show()"
   ]
  },
  {
   "cell_type": "code",
   "execution_count": 48,
   "id": "209ecc51",
   "metadata": {},
   "outputs": [
    {
     "name": "stderr",
     "output_type": "stream",
     "text": [
      "[Stage 53:======================================>                   (4 + 2) / 6]\r"
     ]
    },
    {
     "name": "stdout",
     "output_type": "stream",
     "text": [
      "+-------------------+--------+\n",
      "|    pickup_datetime|duration|\n",
      "+-------------------+--------+\n",
      "|2019-10-28 09:00:00|  631152|\n",
      "|2019-10-11 18:00:00|  631152|\n",
      "|2019-10-31 23:46:33|   87672|\n",
      "|2019-10-01 21:43:42|   70128|\n",
      "|2019-10-17 14:00:00|    8794|\n",
      "|2019-10-26 21:26:00|    8784|\n",
      "|2019-10-30 12:30:04|    1464|\n",
      "|2019-10-25 07:04:57|    1056|\n",
      "|2019-10-01 13:41:00|     793|\n",
      "|2019-10-01 07:21:12|     793|\n",
      "|2019-10-01 13:47:17|     793|\n",
      "|2019-10-01 15:17:59|     792|\n",
      "|2019-10-01 05:06:43|     792|\n",
      "|2019-10-01 09:15:55|     792|\n",
      "|2019-10-01 14:24:33|     792|\n",
      "|2019-10-01 18:24:05|     792|\n",
      "|2019-10-01 12:20:37|     792|\n",
      "|2019-10-01 11:49:27|     792|\n",
      "|2019-10-01 13:47:33|     792|\n",
      "|2019-10-01 09:43:47|     792|\n",
      "+-------------------+--------+\n",
      "only showing top 20 rows\n",
      "\n"
     ]
    },
    {
     "name": "stderr",
     "output_type": "stream",
     "text": [
      "\r",
      "[Stage 55:>                                                         (0 + 4) / 4]\r",
      "\r",
      "                                                                                \r"
     ]
    }
   ],
   "source": [
    "#631152\n",
    "spark.sql(\"\"\"\n",
    "SELECT \n",
    "    pickup_datetime,\n",
    "    MAX(DATEDIFF(hour, pickup_datetime, dropoff_datetime)) AS duration\n",
    "FROM\n",
    "    df_tab\n",
    "GROUP BY\n",
    "    1\n",
    "ORDER BY \n",
    "    2 DESC\n",
    "\"\"\").show()"
   ]
  },
  {
   "cell_type": "code",
   "execution_count": 38,
   "id": "950efcdd",
   "metadata": {},
   "outputs": [
    {
     "name": "stderr",
     "output_type": "stream",
     "text": [
      "\r",
      "[Stage 43:======================================>                   (4 + 2) / 6]\r"
     ]
    },
    {
     "name": "stdout",
     "output_type": "stream",
     "text": [
      "+-----------+--------+\n",
      "|pickup_date|duration|\n",
      "+-----------+--------+\n",
      "| 2019-10-28|  631152|\n",
      "| 2019-10-11|  631152|\n",
      "| 2019-10-31|   87672|\n",
      "| 2019-10-01|   70128|\n",
      "| 2019-10-17|    8794|\n",
      "| 2019-10-26|    8784|\n",
      "| 2019-10-30|    1464|\n",
      "| 2019-10-25|    1056|\n",
      "| 2019-10-02|     769|\n",
      "| 2019-10-03|     745|\n",
      "+-----------+--------+\n",
      "\n"
     ]
    },
    {
     "name": "stderr",
     "output_type": "stream",
     "text": [
      "\r",
      "                                                                                \r"
     ]
    }
   ],
   "source": [
    "spark.sql(\"\"\"\n",
    "SELECT \n",
    "    to_date(pickup_datetime) AS pickup_date,\n",
    "    max(DATEDIFF(hour, pickup_datetime, dropoff_datetime)) AS duration\n",
    "FROM\n",
    "    df_tab\n",
    "GROUP BY \n",
    "    1\n",
    "order by \n",
    "    2 DESC\n",
    "LIMIT 10\n",
    "\"\"\").show()"
   ]
  },
  {
   "cell_type": "code",
   "execution_count": 32,
   "id": "6129ec3f",
   "metadata": {},
   "outputs": [
    {
     "name": "stderr",
     "output_type": "stream",
     "text": [
      "[Stage 28:======================================>                   (4 + 2) / 6]\r"
     ]
    },
    {
     "name": "stdout",
     "output_type": "stream",
     "text": [
      "+-----------+-----------------+\n",
      "|pickup_date|         duration|\n",
      "+-----------+-----------------+\n",
      "| 2019-10-28|       3.786915E7|\n",
      "| 2019-10-11|       3.786915E7|\n",
      "| 2019-10-31|       5260346.45|\n",
      "| 2019-10-01|4207681.683333334|\n",
      "| 2019-10-17|         527640.0|\n",
      "| 2019-10-26|         527050.0|\n",
      "| 2019-10-30|87872.06666666667|\n",
      "| 2019-10-25|          63409.6|\n",
      "| 2019-10-02|46153.88333333333|\n",
      "| 2019-10-23|          44737.0|\n",
      "+-----------+-----------------+\n",
      "\n"
     ]
    },
    {
     "name": "stderr",
     "output_type": "stream",
     "text": [
      "\r",
      "                                                                                \r"
     ]
    }
   ],
   "source": [
    "spark.sql(\"\"\"\n",
    "SELECT\n",
    "    to_date(pickup_datetime) AS pickup_date,\n",
    "    MAX((CAST(dropoff_datetime AS LONG) - CAST(pickup_datetime AS LONG)) / 60) AS duration\n",
    "FROM \n",
    "    df_tab\n",
    "GROUP BY\n",
    "    1\n",
    "ORDER BY\n",
    "    2 DESC\n",
    "LIMIT 10;\n",
    "\"\"\").show()"
   ]
  },
  {
   "cell_type": "code",
   "execution_count": 50,
   "id": "601257a9",
   "metadata": {},
   "outputs": [],
   "source": [
    "df_zone = spark.read \\\n",
    "     .parquet('zones')"
   ]
  },
  {
   "cell_type": "code",
   "execution_count": 62,
   "id": "b1642bd9",
   "metadata": {},
   "outputs": [
    {
     "data": {
      "text/plain": [
       "DataFrame[LocationID: string, Borough: string, Zone: string, service_zone: string]"
      ]
     },
     "execution_count": 62,
     "metadata": {},
     "output_type": "execute_result"
    }
   ],
   "source": [
    "df_zone.limit(265)"
   ]
  },
  {
   "cell_type": "code",
   "execution_count": 72,
   "id": "5f2bb825",
   "metadata": {},
   "outputs": [
    {
     "name": "stdout",
     "output_type": "stream",
     "text": [
      "+--------------------+-------------------+-------------------+------------+------------+-------+----------------------+-----------+\n",
      "|dispatching_base_num|    pickup_datetime|   dropoff_datetime|PULocationID|DOLocationID|SR_Flag|Affiliated_base_number|pickup_date|\n",
      "+--------------------+-------------------+-------------------+------------+------------+-------+----------------------+-----------+\n",
      "|              B03160|2019-10-19 10:57:00|2019-10-19 12:02:00|           2|           2|   null|                B02682| 2019-10-19|\n",
      "+--------------------+-------------------+-------------------+------------+------------+-------+----------------------+-----------+\n",
      "\n"
     ]
    }
   ],
   "source": [
    "df.filter(\"PULocationID = 2\").show()"
   ]
  },
  {
   "cell_type": "code",
   "execution_count": 68,
   "id": "7372232c",
   "metadata": {},
   "outputs": [
    {
     "name": "stdout",
     "output_type": "stream",
     "text": [
      "+----------+-------+---------------+------------+\n",
      "|LocationID|Borough|           Zone|service_zone|\n",
      "+----------+-------+---------------+------------+\n",
      "|         2| Queens|    Jamaica Bay|   Boro Zone|\n",
      "|       130| Queens|        Jamaica|   Boro Zone|\n",
      "|       131| Queens|Jamaica Estates|   Boro Zone|\n",
      "+----------+-------+---------------+------------+\n",
      "\n"
     ]
    }
   ],
   "source": [
    "df_zone.filter(\"Zone like 'Jamaica%'\").show()"
   ]
  },
  {
   "cell_type": "code",
   "execution_count": 59,
   "id": "00dd2e51",
   "metadata": {},
   "outputs": [
    {
     "data": {
      "text/plain": [
       "265"
      ]
     },
     "execution_count": 59,
     "metadata": {},
     "output_type": "execute_result"
    }
   ],
   "source": [
    "df_zone.count()"
   ]
  },
  {
   "cell_type": "code",
   "execution_count": 52,
   "id": "f8b4ceb8",
   "metadata": {},
   "outputs": [
    {
     "data": {
      "text/plain": [
       "['LocationID', 'Borough', 'Zone', 'service_zone']"
      ]
     },
     "execution_count": 52,
     "metadata": {},
     "output_type": "execute_result"
    }
   ],
   "source": [
    "df_zone.columns"
   ]
  },
  {
   "cell_type": "code",
   "execution_count": 53,
   "id": "e63872e3",
   "metadata": {},
   "outputs": [
    {
     "data": {
      "text/plain": [
       "['dispatching_base_num',\n",
       " 'pickup_datetime',\n",
       " 'dropoff_datetime',\n",
       " 'PULocationID',\n",
       " 'DOLocationID',\n",
       " 'SR_Flag',\n",
       " 'Affiliated_base_number',\n",
       " 'pickup_date']"
      ]
     },
     "execution_count": 53,
     "metadata": {},
     "output_type": "execute_result"
    }
   ],
   "source": [
    "df.columns"
   ]
  },
  {
   "cell_type": "code",
   "execution_count": 55,
   "id": "1a9a8534",
   "metadata": {},
   "outputs": [],
   "source": [
    "df_zone.registerTempTable('zones')"
   ]
  },
  {
   "cell_type": "code",
   "execution_count": 69,
   "id": "28976359",
   "metadata": {},
   "outputs": [
    {
     "name": "stdout",
     "output_type": "stream",
     "text": [
      "+--------------------+--------+\n",
      "|                Zone|count(1)|\n",
      "+--------------------+--------+\n",
      "|         Jamaica Bay|       1|\n",
      "|Governor's Island...|       2|\n",
      "| Green-Wood Cemetery|       5|\n",
      "|       Broad Channel|       8|\n",
      "|     Highbridge Park|      14|\n",
      "|        Battery Park|      15|\n",
      "|Saint Michaels Ce...|      23|\n",
      "|Breezy Point/Fort...|      25|\n",
      "|Marine Park/Floyd...|      26|\n",
      "|        Astoria Park|      29|\n",
      "|    Inwood Hill Park|      39|\n",
      "|       Willets Point|      47|\n",
      "|Forest Park/Highl...|      53|\n",
      "|  Brooklyn Navy Yard|      57|\n",
      "|        Crotona Park|      62|\n",
      "|        Country Club|      77|\n",
      "|     Freshkills Park|      89|\n",
      "|       Prospect Park|      98|\n",
      "|     Columbia Street|     105|\n",
      "|  South Williamsburg|     110|\n",
      "|         City Island|     111|\n",
      "|         Marble Hill|     116|\n",
      "|Stuy Town/Peter C...|     125|\n",
      "|         Cobble Hill|     128|\n",
      "|  DUMBO/Vinegar Hill|     142|\n",
      "|     Randalls Island|     175|\n",
      "|        Bloomingdale|     198|\n",
      "|     Cambria Heights|     198|\n",
      "|  Van Cortlandt Park|     202|\n",
      "|     Carroll Gardens|     208|\n",
      "|     Windsor Terrace|     212|\n",
      "|             Gowanus|     220|\n",
      "|                SoHo|     235|\n",
      "|     Pelham Bay Park|     238|\n",
      "|          Bronx Park|     264|\n",
      "| Ocean Parkway South|     265|\n",
      "|Williamsburg (Nor...|     273|\n",
      "|       Rockaway Park|     275|\n",
      "|       Alphabet City|     288|\n",
      "|          Douglaston|     291|\n",
      "|             Seaport|     293|\n",
      "|           Laurelton|     295|\n",
      "|          Pelham Bay|     297|\n",
      "|              Hollis|     302|\n",
      "|    Prospect Heights|     314|\n",
      "|        Howard Beach|     316|\n",
      "|          Ozone Park|     316|\n",
      "|Flushing Meadows-...|     331|\n",
      "|          Greenpoint|     335|\n",
      "|Springfield Garde...|     348|\n",
      "|            Rosedale|     354|\n",
      "|   East Williamsburg|     388|\n",
      "|            Red Hook|     389|\n",
      "|          Kensington|     393|\n",
      "|    Roosevelt Island|     394|\n",
      "|      Queens Village|     401|\n",
      "|      Yorkville East|     402|\n",
      "|           Bellerose|     404|\n",
      "|        West Village|     419|\n",
      "|Springfield Garde...|     444|\n",
      "|Williamsburg (Sou...|     449|\n",
      "|Greenwich Village...|     472|\n",
      "|             Erasmus|     475|\n",
      "|       Fresh Meadows|     482|\n",
      "|Riverdale/North R...|     483|\n",
      "|     Manhattan Beach|     486|\n",
      "|    Manhattan Valley|     490|\n",
      "|     Oakland Gardens|     491|\n",
      "|Arrochar/Fort Wad...|     525|\n",
      "|Greenwich Village...|     539|\n",
      "|        Clinton Hill|     555|\n",
      "|Meatpacking/West ...|     567|\n",
      "|Spuyten Duyvil/Ki...|     592|\n",
      "| Lincoln Square West|     594|\n",
      "|              Inwood|     596|\n",
      "|Briarwood/Jamaica...|     627|\n",
      "| Grymes Hill/Clifton|     632|\n",
      "|Marine Park/Mill ...|     644|\n",
      "|             Oakwood|     657|\n",
      "|      Middle Village|     663|\n",
      "| Morningside Heights|     664|\n",
      "|       Fordham South|     666|\n",
      "|     Lower East Side|     684|\n",
      "|       Dyker Heights|     690|\n",
      "|        Baisley Park|     690|\n",
      "|     Jamaica Estates|     696|\n",
      "|           Gravesend|     697|\n",
      "|           Woodhaven|     709|\n",
      "|      Manhattanville|     712|\n",
      "|   Rossville/Woodrow|     719|\n",
      "|           Glen Oaks|     719|\n",
      "|       Cypress Hills|     723|\n",
      "| Crown Heights South|     730|\n",
      "|Washington Height...|     732|\n",
      "|         Parkchester|     751|\n",
      "|Two Bridges/Sewar...|     757|\n",
      "|          Bath Beach|     760|\n",
      "|       Starrett City|     775|\n",
      "|    Hamilton Heights|     778|\n",
      "|         Eastchester|     786|\n",
      "|        Central Park|     786|\n",
      "|        Saint Albans|     790|\n",
      "|            Flatiron|     809|\n",
      "|         Kew Gardens|     810|\n",
      "|Van Cortlandt Vil...|     815|\n",
      "|Westchester Villa...|     815|\n",
      "|           Chinatown|     816|\n",
      "|         Boerum Hill|     816|\n",
      "|           Hudson Sq|     836|\n",
      "|      Yorkville West|     840|\n",
      "|    Brooklyn Heights|     847|\n",
      "|New Dorp/Midland ...|     863|\n",
      "|   Crotona Park East|     870|\n",
      "|           Bronxdale|     871|\n",
      "|East New York/Pen...|     871|\n",
      "| Lincoln Square East|     894|\n",
      "|Schuylerville/Edg...|     895|\n",
      "|       Midtown South|     896|\n",
      "|       South Jamaica|     901|\n",
      "|   Kew Gardens Hills|     906|\n",
      "|West Farms/Bronx ...|     913|\n",
      "|        Clinton West|     920|\n",
      "|      Bushwick North|     921|\n",
      "|Downtown Brooklyn...|     925|\n",
      "|             Maspeth|     938|\n",
      "|            Longwood|     943|\n",
      "|Allerton/Pelham G...|     962|\n",
      "|             Madison|     973|\n",
      "|          Park Slope|     976|\n",
      "|         Fort Greene|     995|\n",
      "|             Bedford|     996|\n",
      "|Upper West Side N...|     999|\n",
      "|      Central Harlem|    1014|\n",
      "|Upper West Side S...|    1049|\n",
      "|Heartland Village...|    1054|\n",
      "|Long Island City/...|    1057|\n",
      "|         Hunts Point|    1059|\n",
      "|    Sunset Park West|    1067|\n",
      "| Kingsbridge Heights|    1069|\n",
      "|       Arden Heights|    1082|\n",
      "|       Richmond Hill|    1083|\n",
      "|             Belmont|    1091|\n",
      "|        East Village|    1095|\n",
      "|West Chelsea/Huds...|    1098|\n",
      "|     Hammels/Arverne|    1099|\n",
      "|           Flatlands|    1117|\n",
      "|  Stuyvesant Heights|    1120|\n",
      "|             Midwood|    1128|\n",
      "|        Borough Park|    1130|\n",
      "|  Soundview/Bruckner|    1132|\n",
      "|          Ocean Hill|    1151|\n",
      "|            Gramercy|    1153|\n",
      "|            Glendale|    1213|\n",
      "|      West Concourse|    1245|\n",
      "|          Highbridge|    1246|\n",
      "|      Bushwick South|    1249|\n",
      "|East Flatbush/Far...|    1259|\n",
      "| Little Italy/NoLiTa|    1277|\n",
      "|           Homecrest|    1295|\n",
      "|         Great Kills|    1310|\n",
      "|         Westerleigh|    1317|\n",
      "|        Coney Island|    1343|\n",
      "|     Lenox Hill West|    1344|\n",
      "|    Bensonhurst East|    1353|\n",
      "|           Bay Ridge|    1358|\n",
      "|        East Chelsea|    1381|\n",
      "|       West Brighton|    1399|\n",
      "|       College Point|    1410|\n",
      "|      Sheepshead Bay|    1457|\n",
      "|    South Ozone Park|    1460|\n",
      "| UN/Turtle Bay South|    1463|\n",
      "|South Beach/Donga...|    1486|\n",
      "|          Auburndale|    1499|\n",
      "|Financial Distric...|    1499|\n",
      "|Eltingville/Annad...|    1513|\n",
      "|         Brownsville|    1519|\n",
      "|        Bedford Park|    1520|\n",
      "|      Pelham Parkway|    1522|\n",
      "|  Morrisania/Melrose|    1555|\n",
      "|  World Trade Center|    1564|\n",
      "|    Elmhurst/Maspeth|    1565|\n",
      "|          Co-Op City|    1600|\n",
      "|      Brighton Beach|    1609|\n",
      "|Penn Station/Madi...|    1617|\n",
      "|             Jamaica|    1625|\n",
      "|Bloomfield/Emerso...|    1626|\n",
      "|Long Island City/...|    1640|\n",
      "|       Port Richmond|    1641|\n",
      "|            Canarsie|    1664|\n",
      "|Flatbush/Ditmas Park|    1690|\n",
      "|           Rego Park|    1697|\n",
      "|  Claremont/Bathgate|    1722|\n",
      "|Central Harlem North|    1748|\n",
      "|           Ridgewood|    1755|\n",
      "|East Flatbush/Rem...|    1784|\n",
      "|           Sunnyside|    1784|\n",
      "|Upper East Side N...|    1822|\n",
      "|University Height...|    1829|\n",
      "|Williamsbridge/Ol...|    1834|\n",
      "|    Bensonhurst West|    1880|\n",
      "+--------------------+--------+\n",
      "\n"
     ]
    },
    {
     "name": "stderr",
     "output_type": "stream",
     "text": [
      "\r",
      "[Stage 83:================================================>         (5 + 1) / 6]\r",
      "\r",
      "                                                                                \r"
     ]
    }
   ],
   "source": [
    "spark.sql(\"\"\"\n",
    "SELECT\n",
    "    pul.Zone,\n",
    "    COUNT(1)\n",
    "FROM \n",
    "    df_tab fhv LEFT JOIN zones pul ON fhv.PULocationID = pul.LocationID\n",
    "GROUP BY \n",
    "    1\n",
    "ORDER BY\n",
    "    2\n",
    "LIMIT 200;\n",
    "\"\"\").show(n=265)"
   ]
  },
  {
   "cell_type": "code",
   "execution_count": 56,
   "id": "873927a6",
   "metadata": {},
   "outputs": [
    {
     "name": "stderr",
     "output_type": "stream",
     "text": [
      "[Stage 59:======================================>                   (4 + 2) / 6]\r"
     ]
    },
    {
     "name": "stdout",
     "output_type": "stream",
     "text": [
      "+--------------------+--------+\n",
      "|          pu_do_pair|count(1)|\n",
      "+--------------------+--------+\n",
      "|Flushing / Prospe...|       1|\n",
      "|Stuyvesant Height...|       1|\n",
      "|Co-Op City / Two ...|       1|\n",
      "|Battery Park City...|       1|\n",
      "|East Concourse/Co...|       1|\n",
      "+--------------------+--------+\n",
      "\n"
     ]
    },
    {
     "name": "stderr",
     "output_type": "stream",
     "text": [
      "\r",
      "                                                                                \r"
     ]
    }
   ],
   "source": [
    "spark.sql(\"\"\"\n",
    "SELECT\n",
    "    CONCAT(pul.Zone, ' / ', dol.Zone) AS pu_do_pair,\n",
    "    COUNT(1)\n",
    "FROM \n",
    "    df_tab fhv LEFT JOIN zones pul ON fhv.PULocationID = pul.LocationID\n",
    "                      LEFT JOIN zones dol ON fhv.DOLocationID = dol.LocationID\n",
    "GROUP BY \n",
    "    1\n",
    "ORDER BY\n",
    "    2\n",
    "LIMIT 5;\n",
    "\"\"\").show()"
   ]
  },
  {
   "cell_type": "code",
   "execution_count": null,
   "id": "c351b5a0",
   "metadata": {},
   "outputs": [],
   "source": []
  },
  {
   "cell_type": "code",
   "execution_count": 4,
   "id": "5236cebd",
   "metadata": {},
   "outputs": [
    {
     "name": "stdout",
     "output_type": "stream",
     "text": [
      "-rw-rw-r-- 1 alexey alexey 700M Oct 29 18:53 fhvhv_tripdata_2021-02.csv\r\n"
     ]
    }
   ],
   "source": [
    "!ls -lh fhvhv_tripdata_2021-02.csv"
   ]
  },
  {
   "cell_type": "code",
   "execution_count": 6,
   "id": "0a3399a3",
   "metadata": {},
   "outputs": [],
   "source": [
    "schema = types.StructType([\n",
    "    types.StructField('hvfhs_license_num', types.StringType(), True),\n",
    "    types.StructField('dispatching_base_num', types.StringType(), True),\n",
    "    types.StructField('pickup_datetime', types.TimestampType(), True),\n",
    "    types.StructField('dropoff_datetime', types.TimestampType(), True),\n",
    "    types.StructField('PULocationID', types.IntegerType(), True),\n",
    "    types.StructField('DOLocationID', types.IntegerType(), True),\n",
    "    types.StructField('SR_Flag', types.StringType(), True)\n",
    "])"
   ]
  },
  {
   "cell_type": "code",
   "execution_count": 8,
   "id": "68bc8b72",
   "metadata": {},
   "outputs": [],
   "source": [
    "df = spark.read \\\n",
    "    .option(\"header\", \"true\") \\\n",
    "    .schema(schema) \\\n",
    "    .csv('fhvhv_tripdata_2021-02.csv')\n",
    "\n",
    "df = df.repartition(24)\n",
    "\n",
    "df.write.parquet('data/pq/fhvhv/2021/02/', compression=)"
   ]
  },
  {
   "cell_type": "code",
   "execution_count": 16,
   "id": "58989b55",
   "metadata": {},
   "outputs": [
    {
     "name": "stderr",
     "output_type": "stream",
     "text": [
      "\r",
      "[Stage 0:>                                                          (0 + 1) / 1]\r",
      "\r",
      "                                                                                \r"
     ]
    }
   ],
   "source": [
    "df = spark.read.parquet('data/pq/fhvhv/2021/02/')"
   ]
  },
  {
   "cell_type": "markdown",
   "id": "48b01d2f",
   "metadata": {},
   "source": [
    "**Q3**: How many taxi trips were there on February 15?"
   ]
  },
  {
   "cell_type": "code",
   "execution_count": 18,
   "id": "f7489aea",
   "metadata": {},
   "outputs": [],
   "source": [
    "from pyspark.sql import functions as F"
   ]
  },
  {
   "cell_type": "code",
   "execution_count": 24,
   "id": "6c2500fd",
   "metadata": {},
   "outputs": [
    {
     "name": "stderr",
     "output_type": "stream",
     "text": [
      "                                                                                \r"
     ]
    },
    {
     "data": {
      "text/plain": [
       "367170"
      ]
     },
     "execution_count": 24,
     "metadata": {},
     "output_type": "execute_result"
    }
   ],
   "source": [
    "df \\\n",
    "    .withColumn('pickup_date', F.to_date(df.pickup_datetime)) \\\n",
    "    .filter(\"pickup_date = '2021-02-15'\") \\\n",
    "    .count()"
   ]
  },
  {
   "cell_type": "code",
   "execution_count": 25,
   "id": "dd7ae60d",
   "metadata": {},
   "outputs": [],
   "source": [
    "df.registerTempTable('fhvhv_2021_02')"
   ]
  },
  {
   "cell_type": "code",
   "execution_count": 28,
   "id": "6d47c147",
   "metadata": {},
   "outputs": [
    {
     "name": "stderr",
     "output_type": "stream",
     "text": [
      "\r",
      "[Stage 20:>                                                         (0 + 4) / 4]\r"
     ]
    },
    {
     "name": "stdout",
     "output_type": "stream",
     "text": [
      "+--------+\n",
      "|count(1)|\n",
      "+--------+\n",
      "|  367170|\n",
      "+--------+\n",
      "\n"
     ]
    },
    {
     "name": "stderr",
     "output_type": "stream",
     "text": [
      "\r",
      "[Stage 20:==============>                                           (1 + 3) / 4]\r",
      "\r",
      "                                                                                \r"
     ]
    }
   ],
   "source": [
    "spark.sql(\"\"\"\n",
    "SELECT\n",
    "    COUNT(1)\n",
    "FROM \n",
    "    fhvhv_2021_02\n",
    "WHERE\n",
    "    to_date(pickup_datetime) = '2021-02-15';\n",
    "\"\"\").show()"
   ]
  },
  {
   "cell_type": "markdown",
   "id": "ae3f533b",
   "metadata": {},
   "source": [
    "**Q4**: Longest trip for each day"
   ]
  },
  {
   "cell_type": "code",
   "execution_count": 29,
   "id": "7befe422",
   "metadata": {},
   "outputs": [
    {
     "data": {
      "text/plain": [
       "['hvfhs_license_num',\n",
       " 'dispatching_base_num',\n",
       " 'pickup_datetime',\n",
       " 'dropoff_datetime',\n",
       " 'PULocationID',\n",
       " 'DOLocationID',\n",
       " 'SR_Flag']"
      ]
     },
     "execution_count": 29,
     "metadata": {},
     "output_type": "execute_result"
    }
   ],
   "source": [
    "df.columns"
   ]
  },
  {
   "cell_type": "code",
   "execution_count": 36,
   "id": "279d9161",
   "metadata": {},
   "outputs": [
    {
     "name": "stderr",
     "output_type": "stream",
     "text": [
      "[Stage 37:==============>                                           (1 + 3) / 4]\r"
     ]
    },
    {
     "name": "stdout",
     "output_type": "stream",
     "text": [
      "+-----------+-------------+\n",
      "|pickup_date|max(duration)|\n",
      "+-----------+-------------+\n",
      "| 2021-02-11|        75540|\n",
      "| 2021-02-17|        57221|\n",
      "| 2021-02-20|        44039|\n",
      "| 2021-02-03|        40653|\n",
      "| 2021-02-19|        37577|\n",
      "+-----------+-------------+\n",
      "\n"
     ]
    },
    {
     "name": "stderr",
     "output_type": "stream",
     "text": [
      "\r",
      "[Stage 38:==================================================>   (187 + 4) / 200]\r",
      "\r",
      "                                                                                \r"
     ]
    }
   ],
   "source": [
    "df \\\n",
    "    .withColumn('duration', df.dropoff_datetime.cast('long') - df.pickup_datetime.cast('long')) \\\n",
    "    .withColumn('pickup_date', F.to_date(df.pickup_datetime)) \\\n",
    "    .groupBy('pickup_date') \\\n",
    "        .max('duration') \\\n",
    "    .orderBy('max(duration)', ascending=False) \\\n",
    "    .limit(5) \\\n",
    "    .show()"
   ]
  },
  {
   "cell_type": "code",
   "execution_count": 38,
   "id": "74cf0e8b",
   "metadata": {
    "scrolled": true
   },
   "outputs": [
    {
     "name": "stderr",
     "output_type": "stream",
     "text": [
      "\r",
      "[Stage 43:>                                                         (0 + 4) / 4]\r"
     ]
    },
    {
     "name": "stdout",
     "output_type": "stream",
     "text": [
      "+-----------+-----------------+\n",
      "|pickup_date|         duration|\n",
      "+-----------+-----------------+\n",
      "| 2021-02-11|           1259.0|\n",
      "| 2021-02-17|953.6833333333333|\n",
      "| 2021-02-20|733.9833333333333|\n",
      "| 2021-02-03|           677.55|\n",
      "| 2021-02-19|626.2833333333333|\n",
      "| 2021-02-25|            583.5|\n",
      "| 2021-02-18|576.8666666666667|\n",
      "| 2021-02-10|569.4833333333333|\n",
      "| 2021-02-21|           537.05|\n",
      "| 2021-02-09|534.7833333333333|\n",
      "+-----------+-----------------+\n",
      "\n"
     ]
    },
    {
     "name": "stderr",
     "output_type": "stream",
     "text": [
      "\r",
      "[Stage 44:================================================>     (180 + 4) / 200]\r",
      "\r",
      "                                                                                \r"
     ]
    }
   ],
   "source": [
    "spark.sql(\"\"\"\n",
    "SELECT\n",
    "    to_date(pickup_datetime) AS pickup_date,\n",
    "    MAX((CAST(dropoff_datetime AS LONG) - CAST(pickup_datetime AS LONG)) / 60) AS duration\n",
    "FROM \n",
    "    fhvhv_2021_02\n",
    "GROUP BY\n",
    "    1\n",
    "ORDER BY\n",
    "    2 DESC\n",
    "LIMIT 10;\n",
    "\"\"\").show()"
   ]
  },
  {
   "cell_type": "markdown",
   "id": "d915096b",
   "metadata": {},
   "source": [
    "**Q5**: Most frequent `dispatching_base_num`\n",
    "\n",
    "How many stages this spark job has?\n",
    "\n"
   ]
  },
  {
   "cell_type": "code",
   "execution_count": 44,
   "id": "25816aa2",
   "metadata": {},
   "outputs": [
    {
     "name": "stderr",
     "output_type": "stream",
     "text": [
      "\r",
      "[Stage 73:>                                                         (0 + 4) / 4]\r",
      "\r",
      "[Stage 73:==============>                                           (1 + 3) / 4]\r"
     ]
    },
    {
     "name": "stdout",
     "output_type": "stream",
     "text": [
      "+--------------------+--------+\n",
      "|dispatching_base_num|count(1)|\n",
      "+--------------------+--------+\n",
      "|              B02510| 3233664|\n",
      "|              B02764|  965568|\n",
      "|              B02872|  882689|\n",
      "|              B02875|  685390|\n",
      "|              B02765|  559768|\n",
      "+--------------------+--------+\n",
      "\n"
     ]
    },
    {
     "name": "stderr",
     "output_type": "stream",
     "text": [
      "\r",
      "[Stage 74:===================================================>  (189 + 5) / 200]\r",
      "\r",
      "                                                                                \r"
     ]
    }
   ],
   "source": [
    "spark.sql(\"\"\"\n",
    "SELECT\n",
    "    dispatching_base_num,\n",
    "    COUNT(1)\n",
    "FROM \n",
    "    fhvhv_2021_02\n",
    "GROUP BY\n",
    "    1\n",
    "ORDER BY\n",
    "    2 DESC\n",
    "LIMIT 5;\n",
    "\"\"\").show()"
   ]
  },
  {
   "cell_type": "code",
   "execution_count": 46,
   "id": "a78f9fe3",
   "metadata": {},
   "outputs": [
    {
     "name": "stderr",
     "output_type": "stream",
     "text": [
      "\r",
      "[Stage 86:>                                                         (0 + 4) / 4]\r",
      "\r",
      "[Stage 86:=============================>                            (2 + 2) / 4]\r"
     ]
    },
    {
     "name": "stdout",
     "output_type": "stream",
     "text": [
      "+--------------------+-------+\n",
      "|dispatching_base_num|  count|\n",
      "+--------------------+-------+\n",
      "|              B02510|3233664|\n",
      "|              B02764| 965568|\n",
      "|              B02872| 882689|\n",
      "|              B02875| 685390|\n",
      "|              B02765| 559768|\n",
      "+--------------------+-------+\n",
      "\n"
     ]
    },
    {
     "name": "stderr",
     "output_type": "stream",
     "text": [
      "\r",
      "[Stage 87:===========================================>          (161 + 5) / 200]\r",
      "\r",
      "                                                                                \r"
     ]
    }
   ],
   "source": [
    "df \\\n",
    "    .groupBy('dispatching_base_num') \\\n",
    "        .count() \\\n",
    "    .orderBy('count', ascending=False) \\\n",
    "    .limit(5) \\\n",
    "    .show()"
   ]
  },
  {
   "cell_type": "markdown",
   "id": "0d10173a",
   "metadata": {},
   "source": [
    "**Q6**: Most common locations pair"
   ]
  },
  {
   "cell_type": "code",
   "execution_count": 47,
   "id": "74b7f664",
   "metadata": {},
   "outputs": [],
   "source": [
    "df_zones = spark.read.parquet('zones')"
   ]
  },
  {
   "cell_type": "code",
   "execution_count": 49,
   "id": "81642d3b",
   "metadata": {},
   "outputs": [
    {
     "data": {
      "text/plain": [
       "['LocationID', 'Borough', 'Zone', 'service_zone']"
      ]
     },
     "execution_count": 49,
     "metadata": {},
     "output_type": "execute_result"
    }
   ],
   "source": [
    "df_zones.columns"
   ]
  },
  {
   "cell_type": "code",
   "execution_count": 51,
   "id": "4f460dda",
   "metadata": {},
   "outputs": [
    {
     "data": {
      "text/plain": [
       "['hvfhs_license_num',\n",
       " 'dispatching_base_num',\n",
       " 'pickup_datetime',\n",
       " 'dropoff_datetime',\n",
       " 'PULocationID',\n",
       " 'DOLocationID',\n",
       " 'SR_Flag']"
      ]
     },
     "execution_count": 51,
     "metadata": {},
     "output_type": "execute_result"
    }
   ],
   "source": [
    "df.columns"
   ]
  },
  {
   "cell_type": "code",
   "execution_count": 50,
   "id": "ad8f0101",
   "metadata": {},
   "outputs": [],
   "source": [
    "df_zones.registerTempTable('zones')"
   ]
  },
  {
   "cell_type": "code",
   "execution_count": 57,
   "id": "6f738414",
   "metadata": {},
   "outputs": [
    {
     "name": "stderr",
     "output_type": "stream",
     "text": [
      "[Stage 103:==============================================>      (176 + 4) / 200]\r"
     ]
    },
    {
     "name": "stdout",
     "output_type": "stream",
     "text": [
      "+--------------------+--------+\n",
      "|          pu_do_pair|count(1)|\n",
      "+--------------------+--------+\n",
      "|East New York / E...|   45041|\n",
      "|Borough Park / Bo...|   37329|\n",
      "| Canarsie / Canarsie|   28026|\n",
      "|Crown Heights Nor...|   25976|\n",
      "|Bay Ridge / Bay R...|   17934|\n",
      "+--------------------+--------+\n",
      "\n"
     ]
    },
    {
     "name": "stderr",
     "output_type": "stream",
     "text": [
      "\r",
      "                                                                                \r"
     ]
    }
   ],
   "source": [
    "spark.sql(\"\"\"\n",
    "SELECT\n",
    "    CONCAT(pul.Zone, ' / ', dol.Zone) AS pu_do_pair,\n",
    "    COUNT(1)\n",
    "FROM \n",
    "    fhvhv_2021_02 fhv LEFT JOIN zones pul ON fhv.PULocationID = pul.LocationID\n",
    "                      LEFT JOIN zones dol ON fhv.DOLocationID = dol.LocationID\n",
    "GROUP BY \n",
    "    1\n",
    "ORDER BY\n",
    "    2 DESC\n",
    "LIMIT 5;\n",
    "\"\"\").show()"
   ]
  },
  {
   "cell_type": "code",
   "execution_count": null,
   "id": "e4b754d1",
   "metadata": {},
   "outputs": [],
   "source": []
  }
 ],
 "metadata": {
  "kernelspec": {
   "display_name": "Python 3 (ipykernel)",
   "language": "python",
   "name": "python3"
  },
  "language_info": {
   "codemirror_mode": {
    "name": "ipython",
    "version": 3
   },
   "file_extension": ".py",
   "mimetype": "text/x-python",
   "name": "python",
   "nbconvert_exporter": "python",
   "pygments_lexer": "ipython3",
   "version": "3.11.5"
  }
 },
 "nbformat": 4,
 "nbformat_minor": 5
}
